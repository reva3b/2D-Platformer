{
  "nbformat": 4,
  "nbformat_minor": 0,
  "metadata": {
    "colab": {
      "name": "Baseline.ipynb",
      "provenance": [],
      "machine_shape": "hm",
      "include_colab_link": true
    },
    "kernelspec": {
      "name": "python3",
      "display_name": "Python 3"
    },
    "accelerator": "GPU"
  },
  "cells": [
    {
      "cell_type": "markdown",
      "metadata": {
        "id": "view-in-github",
        "colab_type": "text"
      },
      "source": [
        "<a href=\"https://colab.research.google.com/github/reva3b/2d-platformer/blob/master/Baseline.ipynb\" target=\"_parent\"><img src=\"https://colab.research.google.com/assets/colab-badge.svg\" alt=\"Open In Colab\"/></a>"
      ]
    },
    {
      "cell_type": "markdown",
      "metadata": {
        "id": "XZBvLQL5Ginu",
        "colab_type": "text"
      },
      "source": [
        "# Library Imports / Setup"
      ]
    },
    {
      "cell_type": "code",
      "metadata": {
        "id": "PAIBCiuAF4Y7",
        "colab_type": "code",
        "outputId": "a70de490-a38a-4dba-d0a9-22a864105800",
        "colab": {
          "base_uri": "https://localhost:8080/",
          "height": 122
        }
      },
      "source": [
        "from google.colab import drive\n",
        "drive.mount('/content/drive')"
      ],
      "execution_count": 1,
      "outputs": [
        {
          "output_type": "stream",
          "text": [
            "Go to this URL in a browser: https://accounts.google.com/o/oauth2/auth?client_id=947318989803-6bn6qk8qdgf4n4g3pfee6491hc0brc4i.apps.googleusercontent.com&redirect_uri=urn%3aietf%3awg%3aoauth%3a2.0%3aoob&response_type=code&scope=email%20https%3a%2f%2fwww.googleapis.com%2fauth%2fdocs.test%20https%3a%2f%2fwww.googleapis.com%2fauth%2fdrive%20https%3a%2f%2fwww.googleapis.com%2fauth%2fdrive.photos.readonly%20https%3a%2f%2fwww.googleapis.com%2fauth%2fpeopleapi.readonly\n",
            "\n",
            "Enter your authorization code:\n",
            "··········\n",
            "Mounted at /content/drive\n"
          ],
          "name": "stdout"
        }
      ]
    },
    {
      "cell_type": "code",
      "metadata": {
        "id": "UVC4qV28F9Ie",
        "colab_type": "code",
        "colab": {
          "base_uri": "https://localhost:8080/",
          "height": 34
        },
        "outputId": "6364a0c1-24aa-424e-d820-5eef17155e9c"
      },
      "source": [
        "%tensorflow_version 2.x"
      ],
      "execution_count": 2,
      "outputs": [
        {
          "output_type": "stream",
          "text": [
            "TensorFlow 2.x selected.\n"
          ],
          "name": "stdout"
        }
      ]
    },
    {
      "cell_type": "code",
      "metadata": {
        "id": "kEHx8sAPGCN9",
        "colab_type": "code",
        "outputId": "f7a3145f-c61e-47ae-81ad-3dc67cfece0e",
        "colab": {
          "base_uri": "https://localhost:8080/",
          "height": 34
        }
      },
      "source": [
        "import os\n",
        "import numpy as np\n",
        "import random\n",
        "import pandas as pd\n",
        "import gc\n",
        "import matplotlib.pyplot as plt\n",
        "import tensorflow as tf\n",
        "print('Tensorflow Version:', tf.__version__)"
      ],
      "execution_count": 3,
      "outputs": [
        {
          "output_type": "stream",
          "text": [
            "Tensorflow Version: 2.0.0\n"
          ],
          "name": "stdout"
        }
      ]
    },
    {
      "cell_type": "code",
      "metadata": {
        "id": "o4V_6C3KGLw3",
        "colab_type": "code",
        "colab": {}
      },
      "source": [
        "from tensorflow.keras.preprocessing.image import ImageDataGenerator\n",
        "from sklearn.model_selection import train_test_split\n",
        "from tensorflow.keras.models import Sequential\n",
        "from tensorflow.keras.layers import InputLayer, Conv2D, Conv2DTranspose\n",
        "from skimage.color import rgb2lab, lab2rgb, rgb2gray"
      ],
      "execution_count": 0,
      "outputs": []
    },
    {
      "cell_type": "code",
      "metadata": {
        "id": "s53RbgrQGQlr",
        "colab_type": "code",
        "outputId": "0a6c774f-f564-498c-a647-1e8302af37dc",
        "colab": {
          "base_uri": "https://localhost:8080/",
          "height": 34
        }
      },
      "source": [
        "# change current working directory\n",
        "os.chdir('/content/drive/My Drive/CISC 6000: Deep Learning/')\n",
        "os.getcwd()"
      ],
      "execution_count": 5,
      "outputs": [
        {
          "output_type": "execute_result",
          "data": {
            "text/plain": [
              "'/content/drive/My Drive/CISC 6000: Deep Learning'"
            ]
          },
          "metadata": {
            "tags": []
          },
          "execution_count": 5
        }
      ]
    },
    {
      "cell_type": "code",
      "metadata": {
        "id": "5I_tKD-BGmwU",
        "colab_type": "code",
        "colab": {}
      },
      "source": [
        "# seed for randoom number generator\n",
        "SEED = 6000\n",
        "def seed_everything(SEED):\n",
        "    np.random.seed(SEED)\n",
        "    tf.random.set_seed(SEED)\n",
        "    random.seed(SEED)\n",
        "seed_everything(SEED)"
      ],
      "execution_count": 0,
      "outputs": []
    },
    {
      "cell_type": "markdown",
      "metadata": {
        "id": "WwTKrWRbGh3w",
        "colab_type": "text"
      },
      "source": [
        "# Prepare Data for Training"
      ]
    },
    {
      "cell_type": "code",
      "metadata": {
        "id": "bQn3epfJuMvJ",
        "colab_type": "code",
        "colab": {}
      },
      "source": [
        "# returns batches of X, Y data for given generator (train/val)\n",
        "def getBatches(generator):\n",
        "    for batch in generator:\n",
        "        lab_batch = rgb2lab(batch)\n",
        "        X_batch = lab_batch[:,:,:,0]\n",
        "        Y_batch = lab_batch[:,:,:,1:] / 128\n",
        "        yield (X_batch.reshape(X_batch.shape+(1,)), Y_batch)"
      ],
      "execution_count": 0,
      "outputs": []
    },
    {
      "cell_type": "code",
      "metadata": {
        "id": "qbPi9ppQsyyP",
        "colab_type": "code",
        "colab": {}
      },
      "source": [
        "BATCH_SIZE = 8\n",
        "TARGET_SIZE = (128, 128)"
      ],
      "execution_count": 0,
      "outputs": []
    },
    {
      "cell_type": "code",
      "metadata": {
        "id": "obvj4R1oqvXz",
        "colab_type": "code",
        "colab": {
          "base_uri": "https://localhost:8080/",
          "height": 51
        },
        "outputId": "7256e3c1-5e93-44b0-fa50-9e2ae55757cb"
      },
      "source": [
        "# specify image data generators\n",
        "#, shear_range=0.2, zoom_range=0.2, rotation_range=20, horizontal_flip=True)\n",
        "train_datagen = ImageDataGenerator(data_format='channels_last', rescale=1./255, validation_split=0.235)\n",
        "train_generator = train_datagen.flow_from_directory(directory='./Final Project (Deep Learning - Fall 2019)/DATA/Flowers', \n",
        "                                                    subset='training', classes=['train'], class_mode=None, seed=SEED,\n",
        "                                                    target_size=TARGET_SIZE, batch_size=BATCH_SIZE)\n",
        "val_generator = train_datagen.flow_from_directory(directory='./Final Project (Deep Learning - Fall 2019)/DATA/Flowers',\n",
        "                                                  subset='validation', classes=['train'], class_mode=None, seed=SEED,\n",
        "                                                  target_size=TARGET_SIZE, batch_size=BATCH_SIZE)"
      ],
      "execution_count": 22,
      "outputs": [
        {
          "output_type": "stream",
          "text": [
            "Found 100 images belonging to 1 classes.\n",
            "Found 30 images belonging to 1 classes.\n"
          ],
          "name": "stdout"
        }
      ]
    },
    {
      "cell_type": "code",
      "metadata": {
        "id": "KgTQlXDWuM-l",
        "colab_type": "code",
        "colab": {
          "base_uri": "https://localhost:8080/",
          "height": 51
        },
        "outputId": "6ba71f67-4298-4fbf-faf0-9cc54ce5fd0f"
      },
      "source": [
        "# check size/scale for train and val images\n",
        "x = train_generator[0]\n",
        "print('Shape of TRAIN Batch:', x[0].shape, 'with images in range', x[0].min(), 'to', x[0].max())\n",
        "x = val_generator[0]\n",
        "print('Shape of VAL Batch:', x[0].shape, 'with images in range', x[0].min(), 'to', x[0].max())"
      ],
      "execution_count": 24,
      "outputs": [
        {
          "output_type": "stream",
          "text": [
            "Shape of TRAIN Batch: (128, 128, 3) with images in range 0.0 to 0.9960785\n",
            "Shape of VAL Batch: (128, 128, 3) with images in range 0.0 to 1.0\n"
          ],
          "name": "stdout"
        }
      ]
    },
    {
      "cell_type": "markdown",
      "metadata": {
        "id": "dMQKVorWwmy_",
        "colab_type": "text"
      },
      "source": [
        "# Baseline Model"
      ]
    },
    {
      "cell_type": "code",
      "metadata": {
        "id": "yz-5dsxAwmIf",
        "colab_type": "code",
        "colab": {}
      },
      "source": [
        "def baselineModel(input_shape, starting_filter, num_layers):\n",
        "    model = Sequential()\n",
        "    model.add(InputLayer(input_shape=input_shape, name='input'))\n",
        "    for i in [2**j for j in range(num_layers)]:\n",
        "        model.add(Conv2D(filters=starting_filter * i, kernel_size=(3, 3), activation='relu', \n",
        "                         padding='same', strides=1, name='conv_' + str(starting_filter * i)))\n",
        "        model.add(Conv2D(filters=starting_filter * i, kernel_size=(3, 3), activation='relu', \n",
        "                         padding='same', strides=2, name='stridePool_' + str(starting_filter * i)))\n",
        "    for i in [2**j for j in range(num_layers - 1, -1, -1)]:\n",
        "        model.add(Conv2DTranspose(filters=starting_filter * i, kernel_size=(3, 3), activation='relu', \n",
        "                                  padding='same', strides=2, name='convT_' + str(starting_filter * i)))\n",
        "    model.add(Conv2D(filters=2, kernel_size=(3, 3), activation='tanh', \n",
        "                     padding='same', strides=1, name='output'))\n",
        "    return model"
      ],
      "execution_count": 0,
      "outputs": []
    },
    {
      "cell_type": "code",
      "metadata": {
        "id": "KcKMLlAkuNQ2",
        "colab_type": "code",
        "colab": {
          "base_uri": "https://localhost:8080/",
          "height": 493
        },
        "outputId": "94868d88-8744-4850-b222-c8d3c2f0fb85"
      },
      "source": [
        "baseline = baselineModel(input_shape=TARGET_SIZE+(1,), starting_filter=32, num_layers=3)\n",
        "baseline.summary()"
      ],
      "execution_count": 86,
      "outputs": [
        {
          "output_type": "stream",
          "text": [
            "Model: \"sequential_23\"\n",
            "_________________________________________________________________\n",
            "Layer (type)                 Output Shape              Param #   \n",
            "=================================================================\n",
            "conv_32 (Conv2D)             (None, 128, 128, 32)      320       \n",
            "_________________________________________________________________\n",
            "stridePool_32 (Conv2D)       (None, 64, 64, 32)        9248      \n",
            "_________________________________________________________________\n",
            "conv_64 (Conv2D)             (None, 64, 64, 64)        18496     \n",
            "_________________________________________________________________\n",
            "stridePool_64 (Conv2D)       (None, 32, 32, 64)        36928     \n",
            "_________________________________________________________________\n",
            "conv_128 (Conv2D)            (None, 32, 32, 128)       73856     \n",
            "_________________________________________________________________\n",
            "stridePool_128 (Conv2D)      (None, 16, 16, 128)       147584    \n",
            "_________________________________________________________________\n",
            "convT_128 (Conv2DTranspose)  (None, 32, 32, 128)       147584    \n",
            "_________________________________________________________________\n",
            "convT_64 (Conv2DTranspose)   (None, 64, 64, 64)        73792     \n",
            "_________________________________________________________________\n",
            "convT_32 (Conv2DTranspose)   (None, 128, 128, 32)      18464     \n",
            "_________________________________________________________________\n",
            "output (Conv2D)              (None, 128, 128, 2)       578       \n",
            "=================================================================\n",
            "Total params: 526,850\n",
            "Trainable params: 526,850\n",
            "Non-trainable params: 0\n",
            "_________________________________________________________________\n"
          ],
          "name": "stdout"
        }
      ]
    },
    {
      "cell_type": "code",
      "metadata": {
        "id": "RA5qu4hEuM5T",
        "colab_type": "code",
        "colab": {}
      },
      "source": [
        ""
      ],
      "execution_count": 0,
      "outputs": []
    },
    {
      "cell_type": "code",
      "metadata": {
        "id": "RiUiLxWuwRLw",
        "colab_type": "code",
        "colab": {}
      },
      "source": [
        ""
      ],
      "execution_count": 0,
      "outputs": []
    },
    {
      "cell_type": "code",
      "metadata": {
        "id": "TlM-zoiowRa5",
        "colab_type": "code",
        "colab": {}
      },
      "source": [
        ""
      ],
      "execution_count": 0,
      "outputs": []
    },
    {
      "cell_type": "code",
      "metadata": {
        "id": "dKTiAdxtwRei",
        "colab_type": "code",
        "colab": {}
      },
      "source": [
        ""
      ],
      "execution_count": 0,
      "outputs": []
    }
  ]
}